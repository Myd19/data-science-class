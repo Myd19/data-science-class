{
 "cells": [
  {
   "cell_type": "code",
   "execution_count": null,
   "id": "018123bd-a508-4d6e-9d12-65a7416a2197",
   "metadata": {},
   "outputs": [],
   "source": [
    "\n",
    "Q1.#create a list of 5 integers\n",
    "#Add a new element at the end of list\n",
    "#remove the second element\n",
    "#print the final list "
   ]
  },
  {
   "cell_type": "code",
   "execution_count": 4,
   "id": "f9467f06-e99b-41f8-bdde-428c4ef8ee33",
   "metadata": {
    "scrolled": true
   },
   "outputs": [
    {
     "name": "stdout",
     "output_type": "stream",
     "text": [
      "[3, 4, 5, 6, 7]\n"
     ]
    }
   ],
   "source": [
    "#create a list of 5 integer\n",
    "my_list = [3,4,5,6,7]\n",
    "print(my_list)"
   ]
  },
  {
   "cell_type": "code",
   "execution_count": 5,
   "id": "9b8215bf-9eee-4cc6-b665-f458b1d03b13",
   "metadata": {},
   "outputs": [
    {
     "name": "stdout",
     "output_type": "stream",
     "text": [
      "[3, 4, 5, 6, 7, 8]\n"
     ]
    }
   ],
   "source": [
    "#Add a new element at the end of list\n",
    "my_list = [ 3,4,5,6,7]\n",
    "my_list.append(8)\n",
    "print(my_list)"
   ]
  },
  {
   "cell_type": "code",
   "execution_count": 6,
   "id": "d7e3323e-19bd-4aa6-998d-a24c08427030",
   "metadata": {},
   "outputs": [
    {
     "name": "stdout",
     "output_type": "stream",
     "text": [
      "[3, 5, 6, 7]\n"
     ]
    }
   ],
   "source": [
    "#remove the second element\n",
    "my_list =[3,4,5,6,7]\n",
    "my_list.remove(4)\n",
    "print(my_list)"
   ]
  },
  {
   "cell_type": "code",
   "execution_count": 32,
   "id": "b6a7fa3f-b619-4921-941d-62be52a3a23f",
   "metadata": {
    "scrolled": true
   },
   "outputs": [
    {
     "name": "stdout",
     "output_type": "stream",
     "text": [
      "[1, 2, 5, 8, 9]\n",
      "[9, 8, 5, 2, 1]\n"
     ]
    }
   ],
   "source": [
    "Q2.# Given a my_list=[5,2,8,1,9] write a program to:\n",
    "#sort the list in ascending order\n",
    "my_list = [5,2,8,1,9]\n",
    "my_list.sort()\n",
    "print(my_list)\n",
    "my_list.reverse()\n",
    "print(my_list)"
   ]
  },
  {
   "cell_type": "code",
   "execution_count": 29,
   "id": "cfa19244-e645-486c-81bb-20ef258a796b",
   "metadata": {},
   "outputs": [
    {
     "name": "stdout",
     "output_type": "stream",
     "text": [
      "25\n"
     ]
    }
   ],
   "source": [
    "my_list = [5,2,8,1,9]\n",
    "my_list=sum(my_list)\n",
    "print(my_list)"
   ]
  },
  {
   "cell_type": "code",
   "execution_count": 87,
   "id": "9334ac9d-cbdf-47ff-aa72-729f01e72a74",
   "metadata": {
    "collapsed": true,
    "jupyter": {
     "outputs_hidden": true
    }
   },
   "outputs": [
    {
     "name": "stdout",
     "output_type": "stream",
     "text": [
      "('red', 'green', 'blue')\n"
     ]
    },
    {
     "ename": "AttributeError",
     "evalue": "'tuple' object has no attribute 'add'",
     "output_type": "error",
     "traceback": [
      "\u001b[1;31m---------------------------------------------------------------------------\u001b[0m",
      "\u001b[1;31mAttributeError\u001b[0m                            Traceback (most recent call last)",
      "Cell \u001b[1;32mIn[87], line 5\u001b[0m\n\u001b[0;32m      3\u001b[0m my_list \u001b[38;5;241m=\u001b[39m(\u001b[38;5;124m'\u001b[39m\u001b[38;5;124mred\u001b[39m\u001b[38;5;124m'\u001b[39m,\u001b[38;5;124m'\u001b[39m\u001b[38;5;124mgreen\u001b[39m\u001b[38;5;124m'\u001b[39m,\u001b[38;5;124m'\u001b[39m\u001b[38;5;124mblue\u001b[39m\u001b[38;5;124m'\u001b[39m,)\n\u001b[0;32m      4\u001b[0m \u001b[38;5;28mprint\u001b[39m(my_list)\n\u001b[1;32m----> 5\u001b[0m my_list\u001b[38;5;241m.\u001b[39madd(\u001b[38;5;124m\"\u001b[39m\u001b[38;5;124myellow\u001b[39m\u001b[38;5;124m\"\u001b[39m)\n\u001b[0;32m      6\u001b[0m \u001b[38;5;28mprint\u001b[39m(my_list)\n",
      "\u001b[1;31mAttributeError\u001b[0m: 'tuple' object has no attribute 'add'"
     ]
    }
   ],
   "source": [
    "#Q3.Given a tuple,colors=(\"red\",\"green\",\"blue\"),write a program to:\n",
    "#convert tupple into a list,\n",
    "my_list =('red','green','blue',)\n",
    "print(my_list)\n",
    "my_list.add(\"yellow\")\n",
    "print(my_list)"
   ]
  },
  {
   "cell_type": "code",
   "execution_count": null,
   "id": "3786cb82-9e6a-4229-90c8-f6111a1980de",
   "metadata": {},
   "outputs": [],
   "source": [
    "Q4.#Given Two Tuples1=(1,2,3) and Tuples2 =(4,5,6)\n",
    "concatenate."
   ]
  },
  {
   "cell_type": "code",
   "execution_count": 55,
   "id": "7f5338a8-32b6-413c-81ae-6c733db34447",
   "metadata": {},
   "outputs": [],
   "source": [
    "#concatenate\n",
    "tuples1 = (1,2,3)\n",
    "tuples2 = (4,5,6)\n"
   ]
  },
  {
   "cell_type": "code",
   "execution_count": null,
   "id": "fb55f2ff-9986-4e9c-9774-096ee58e8393",
   "metadata": {},
   "outputs": [],
   "source": [
    "Q5.#Given a dictionary student ={\"name\":\"Alice\",\"age\":21,\"grade\":\"A\"}\n",
    "my_dict ={\"name\":\"Alice\",\"age\":21,\"grade\":\"A\"}\n",
    "print(my_dict)\n",
    "#update the age to 22\n"
   ]
  },
  {
   "cell_type": "code",
   "execution_count": 65,
   "id": "20130254-a6d1-4566-89d8-641dc919a9e1",
   "metadata": {},
   "outputs": [
    {
     "name": "stdout",
     "output_type": "stream",
     "text": [
      "{'name': 'Alice', 'age': 21, 'grade': 'A'}\n",
      "{'name': 'Alice', 'age': 22, 'grade': 'A'}\n",
      "{'name': 'Alice', 'age': 22, 'grade': 'A', 'course': 'computer science'}\n",
      "{'name': 'Alice', 'age': 22, 'course': 'computer science'}\n"
     ]
    }
   ],
   "source": [
    "my_dict = {\"name\":\"Alice\",\"age\": 21,\"grade\":\"A\"}\n",
    "print(my_dict)\n",
    "my_dict[\"age\"] = 22\n",
    "print(my_dict)\n",
    "my_dict[\"course\"] = \"computer science\"\n",
    "print(my_dict)\n",
    "del my_dict[\"grade\"]\n",
    "print(my_dict)"
   ]
  },
  {
   "cell_type": "code",
   "execution_count": 82,
   "id": "2e4460f2-a40f-4883-8ec4-d13c3c3371d2",
   "metadata": {},
   "outputs": [
    {
     "name": "stdout",
     "output_type": "stream",
     "text": [
      "{'a': 1, 'b': 2, 'c': 3, 'd': 4}\n"
     ]
    }
   ],
   "source": [
    "#Q6.write a program to merge two dictionaries\n",
    "dict1 ={\"a\":1,\"b\":2}\n",
    "dict2 ={\"c\":3,\"d\":4}\n",
    "merged_dict ={**dict1,**dict2}\n",
    "print(merged_dict)"
   ]
  },
  {
   "cell_type": "code",
   "execution_count": 72,
   "id": "e8b99b6b-251f-46f2-aa85-1b91fe89fe04",
   "metadata": {},
   "outputs": [
    {
     "name": "stdout",
     "output_type": "stream",
     "text": [
      "union {1, 2, 3, 4, 5, 6}\n",
      "intersection {3, 4}\n",
      "difference {1, 2}\n"
     ]
    }
   ],
   "source": [
    "#Q7. Given two sets in pythons\n",
    "set1 = {1,2,3,4}\n",
    "set2 = {3,4,5,6}\n",
    "#union set\n",
    "union_set=set1.union(set2)\n",
    "print(\"union\",union_set)\n",
    "\n",
    "#the intersection set\n",
    "intersection_set=set1.intersection(set2)\n",
    "print(\"intersection\",intersection_set)\n",
    "\n",
    "#difference set\n",
    "difference_set = set1.difference(set2)\n",
    "print(\"difference\",difference_set)"
   ]
  },
  {
   "cell_type": "code",
   "execution_count": 74,
   "id": "2524032e-b567-4083-b03c-e28adaa2be52",
   "metadata": {},
   "outputs": [
    {
     "name": "stdout",
     "output_type": "stream",
     "text": [
      "{1, 2, 3, 4, 5}\n"
     ]
    }
   ],
   "source": [
    "#Q8. write a programe to remove duplicatesfrom alist using a set\n",
    "my_list={1,2,2,3,4,4,5}\n",
    "unique_set=set(my_list)\n",
    "print(unique_set)\n"
   ]
  },
  {
   "cell_type": "code",
   "execution_count": 81,
   "id": "56c7464a-1d2b-474f-8b0b-4e97b3464f5d",
   "metadata": {},
   "outputs": [
    {
     "name": "stdout",
     "output_type": "stream",
     "text": [
      "[20, 21, 22]\n",
      "['alice', 'bob', 'charlie']\n"
     ]
    }
   ],
   "source": [
    "#Q9.Given a list of dictionaries:\n",
    "#students=[{\"name\":\"Alice\",\"age\":21},{\"name\":\"bob\",\"age\":20},{\"name\":\"charlie\",\"age\":22}]\n",
    "#sort the list by age age in ascending order\n",
    "my_list =[21,20,22]\n",
    "my_list.sort()\n",
    "print(my_list)\n",
    "my_list =[\"alice\",\"bob\",\"charlie\"]\n",
    "print(my_list)\n"
   ]
  },
  {
   "cell_type": "code",
   "execution_count": null,
   "id": "bbb8ab81-c7ba-49f0-8fa9-115eb9ca715a",
   "metadata": {},
   "outputs": [],
   "source": []
  }
 ],
 "metadata": {
  "kernelspec": {
   "display_name": "Python 3 (ipykernel)",
   "language": "python",
   "name": "python3"
  },
  "language_info": {
   "codemirror_mode": {
    "name": "ipython",
    "version": 3
   },
   "file_extension": ".py",
   "mimetype": "text/x-python",
   "name": "python",
   "nbconvert_exporter": "python",
   "pygments_lexer": "ipython3",
   "version": "3.12.7"
  }
 },
 "nbformat": 4,
 "nbformat_minor": 5
}
