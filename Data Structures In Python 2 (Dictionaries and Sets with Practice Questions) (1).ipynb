{
 "cells": [
  {
   "cell_type": "markdown",
   "id": "a2d9265c",
   "metadata": {},
   "source": [
    "# Data Structures in Python (Dictionaries and Sets)"
   ]
  },
  {
   "cell_type": "markdown",
   "id": "16811eea",
   "metadata": {},
   "source": [
    "## Dictionaries in Python\n",
    "\n",
    "- A dictionary is an unordered collection of key-value pairs.\n",
    "- Each key is unique and maps to a value.\n",
    "- Dictionaries are created using curly braces {} with key-value pairs separated by colons."
   ]
  },
  {
   "cell_type": "markdown",
   "id": "c72e197b",
   "metadata": {},
   "source": [
    "### Example of a dictionary"
   ]
  },
  {
   "cell_type": "code",
   "execution_count": null,
   "id": "a51ca2ba",
   "metadata": {},
   "outputs": [],
   "source": [
    "my_dict = {\"name\": \"Alice\", \"age\": 25, \"city\": \"New York\"}\n",
    "print(my_dict)"
   ]
  },
  {
   "cell_type": "code",
   "execution_count": 3,
   "id": "d46507ae-0bfd-40ab-b2ee-ce188be715ab",
   "metadata": {},
   "outputs": [
    {
     "name": "stdout",
     "output_type": "stream",
     "text": [
      "{'surname': ' yekeen', 'first name': 'olaitan', 'last name': 'muideen', 'Religion': 'muslim', 'gender': 'male'}\n"
     ]
    }
   ],
   "source": [
    "my_dict = {'surname':'yekeen','first name':'olaitan','last name':'muideen','Religion':'muslim','gender':'male'}\n",
    "print(my_dict)"
   ]
  },
  {
   "cell_type": "markdown",
   "id": "93d7f6b9",
   "metadata": {},
   "source": [
    "### Accessing Values\n",
    "- You can access the value associated with a key using square brackets []."
   ]
  },
  {
   "cell_type": "code",
   "execution_count": 2,
   "id": "127df150",
   "metadata": {},
   "outputs": [
    {
     "name": "stdout",
     "output_type": "stream",
     "text": [
      " yekeen\n"
     ]
    }
   ],
   "source": [
    "print(my_dict[\"surname\"])  # Output: Alice"
   ]
  },
  {
   "cell_type": "markdown",
   "id": "93a3e2ce",
   "metadata": {},
   "source": [
    "### Adding or Updating Values\n",
    "- You can add a new key-value pair or update an existing one."
   ]
  },
  {
   "cell_type": "code",
   "execution_count": 5,
   "id": "db7a850a",
   "metadata": {},
   "outputs": [
    {
     "name": "stdout",
     "output_type": "stream",
     "text": [
      "{'surname': ' yekeen', 'first name': 'olaitan', 'last name': 'muideen', 'Religion': 'muslim', 'gender': 'male', 'email': 'olayekeen19@gmail.com'}\n"
     ]
    }
   ],
   "source": [
    "my_dict[\"email\"] = \"olayekeen19@gmail.com\"  # Adds a new key-value pair\n",
    "print(my_dict)"
   ]
  },
  {
   "cell_type": "code",
   "execution_count": 6,
   "id": "e39b1ee2",
   "metadata": {},
   "outputs": [
    {
     "name": "stdout",
     "output_type": "stream",
     "text": [
      "{'surname': ' yekeen', 'first name': 'olaitan', 'last name': 'muideen', 'Religion': 'muslim', 'gender': 'male', 'email': 'olayekeen19@gmail.com', 'age': 35}\n"
     ]
    }
   ],
   "source": [
    "my_dict[\"age\"] = 35  # Updates the value associated with the key \"age\"\n",
    "print(my_dict)"
   ]
  },
  {
   "cell_type": "markdown",
   "id": "1b566de6",
   "metadata": {},
   "source": [
    "### Removing Key-Value Pairs\n",
    "- You can remove a key-value pair using the del statement or the pop() method."
   ]
  },
  {
   "cell_type": "code",
   "execution_count": 7,
   "id": "7f93f107",
   "metadata": {},
   "outputs": [
    {
     "name": "stdout",
     "output_type": "stream",
     "text": [
      "{'surname': ' yekeen', 'first name': 'olaitan', 'last name': 'muideen', 'Religion': 'muslim', 'email': 'olayekeen19@gmail.com', 'age': 35}\n"
     ]
    }
   ],
   "source": [
    "del my_dict[\"gender\"]\n",
    "print(my_dict)"
   ]
  },
  {
   "cell_type": "code",
   "execution_count": 8,
   "id": "35b0ba1f",
   "metadata": {},
   "outputs": [
    {
     "name": "stdout",
     "output_type": "stream",
     "text": [
      "{'surname': ' yekeen', 'first name': 'olaitan', 'last name': 'muideen', 'Religion': 'muslim', 'email': 'olayekeen19@gmail.com'}\n",
      "Popped age: 35\n"
     ]
    }
   ],
   "source": [
    "age = my_dict.pop(\"age\")\n",
    "print(my_dict)\n",
    "print(\"Popped age:\", age)"
   ]
  },
  {
   "cell_type": "markdown",
   "id": "b3070dfb",
   "metadata": {},
   "source": [
    "### Looping through Dictionaries\n",
    "- You can loop through keys, values, or key-value pairs using a for loop."
   ]
  },
  {
   "cell_type": "code",
   "execution_count": 9,
   "id": "1c2e2416",
   "metadata": {},
   "outputs": [
    {
     "name": "stdout",
     "output_type": "stream",
     "text": [
      "surname  yekeen\n",
      "first name olaitan\n",
      "last name muideen\n",
      "Religion muslim\n",
      "email olayekeen19@gmail.com\n"
     ]
    }
   ],
   "source": [
    "for key in my_dict:\n",
    "    print(key, my_dict[key])"
   ]
  },
  {
   "cell_type": "code",
   "execution_count": 10,
   "id": "abfa7e7d",
   "metadata": {},
   "outputs": [
    {
     "name": "stdout",
     "output_type": "stream",
     "text": [
      "surname  yekeen\n",
      "first name olaitan\n",
      "last name muideen\n",
      "Religion muslim\n",
      "email olayekeen19@gmail.com\n"
     ]
    }
   ],
   "source": [
    "for key, value in my_dict.items():\n",
    "    print(key, value)"
   ]
  },
  {
   "cell_type": "markdown",
   "id": "f85159b7",
   "metadata": {},
   "source": [
    "### Checking for Key Existence\n",
    "- Use the in keyword to check if a key exists in the dictionary."
   ]
  },
  {
   "cell_type": "code",
   "execution_count": 12,
   "id": "25922eff",
   "metadata": {},
   "outputs": [
    {
     "name": "stdout",
     "output_type": "stream",
     "text": [
      "False\n"
     ]
    }
   ],
   "source": [
    "print(\"name\" in my_dict)  # Output: True"
   ]
  },
  {
   "cell_type": "code",
   "execution_count": 13,
   "id": "df6d3c5e-6c0f-4659-932a-a051dc9bd6e9",
   "metadata": {},
   "outputs": [
    {
     "name": "stdout",
     "output_type": "stream",
     "text": [
      "True\n"
     ]
    }
   ],
   "source": [
    "print('surname' in my_dict)"
   ]
  },
  {
   "cell_type": "code",
   "execution_count": 11,
   "id": "6967138e-1960-41a3-ac2b-f284bc397655",
   "metadata": {},
   "outputs": [
    {
     "data": {
      "text/plain": [
       "False"
      ]
     },
     "execution_count": 11,
     "metadata": {},
     "output_type": "execute_result"
    }
   ],
   "source": [
    "age=35\n",
    "age==50"
   ]
  },
  {
   "cell_type": "code",
   "execution_count": null,
   "id": "608bff4f-5503-498f-954c-c2e5651dd460",
   "metadata": {},
   "outputs": [],
   "source": []
  },
  {
   "cell_type": "markdown",
   "id": "73fc9993",
   "metadata": {},
   "source": [
    "### Dictionary Methods\n",
    "- There are several useful methods for dictionaries, such as keys(), values(), and items()."
   ]
  },
  {
   "cell_type": "code",
   "execution_count": 14,
   "id": "358f3b91",
   "metadata": {},
   "outputs": [
    {
     "name": "stdout",
     "output_type": "stream",
     "text": [
      "dict_keys(['surname', 'first name', 'last name', 'Religion', 'email'])\n",
      "dict_values([' yekeen', 'olaitan', 'muideen', 'muslim', 'olayekeen19@gmail.com'])\n",
      "dict_items([('surname', ' yekeen'), ('first name', 'olaitan'), ('last name', 'muideen'), ('Religion', 'muslim'), ('email', 'olayekeen19@gmail.com')])\n"
     ]
    }
   ],
   "source": [
    "print(my_dict.keys())\n",
    "print(my_dict.values())\n",
    "print(my_dict.items())"
   ]
  },
  {
   "cell_type": "code",
   "execution_count": 33,
   "id": "036fd962",
   "metadata": {},
   "outputs": [
    {
     "name": "stdout",
     "output_type": "stream",
     "text": [
      "{'name': 'olaitan', 'age': '35', 'city': 'ibadan'}\n",
      "{'name': 'olaitan', 'age': '35', 'city': 'ibadan', 'email': 'olayekeen19@gmail.com'}\n",
      "{'name': 'olaitan', 'age': 40, 'city': 'ibadan', 'email': 'olayekeen19@gmail.com'}\n",
      "{'name': 'olaitan', 'age': 40, 'email': 'olayekeen19@gmail.com'}\n",
      "my_city\n",
      "name olaitan\n",
      "age 40\n",
      "email olayekeen19@gmail.com\n",
      "city ibadan\n",
      "True\n"
     ]
    }
   ],
   "source": [
    "# Practice Questions:\n",
    "# 1. Create a dictionary with keys \"name\", \"age\", and \"city\". Add a key \"email\" and update the \"age\".\n",
    "my_dict = {\"name\":\"olaitan\",\"age\":\"35\",\"city\":\"ibadan\"}\n",
    "print(my_dict)\n",
    "my_dict[\"email\"]=\"olayekeen19@gmail.com\"\n",
    "print(my_dict)\n",
    "my_dict[\"age\"]=40\n",
    "print(my_dict)\n",
    "# 2. Remove the key \"city\" from the dictionary.\n",
    "del my_dict[\"city\"]\n",
    "print(my_dict)\n",
    "my_dict[\"city\"]=\"ibadan\"\n",
    "print(\"my_city\")\n",
    "# 3. Loop through the dictionary and print each key-value pair.\n",
    "for key in my_dict:\n",
    "    print(key,my_dict[key])\n",
    "# 4. Check if the key \"name\" exists in the dictionary.\n",
    "print(\"city\"in my_dict)"
   ]
  },
  {
   "cell_type": "code",
   "execution_count": null,
   "id": "a07fa808-0d0f-4b8d-a7b0-0ed471d48ebc",
   "metadata": {},
   "outputs": [],
   "source": [
    "#1."
   ]
  },
  {
   "cell_type": "markdown",
   "id": "7cbe3a60",
   "metadata": {},
   "source": [
    "## Sets in Python\n",
    "\n",
    "- A set is an unordered collection of unique elements.\n",
    "- Sets are created using curly braces {} or the set() function."
   ]
  },
  {
   "cell_type": "markdown",
   "id": "ba619586",
   "metadata": {},
   "source": [
    "### Example of a set"
   ]
  },
  {
   "cell_type": "code",
   "execution_count": 34,
   "id": "100d6698",
   "metadata": {
    "scrolled": true
   },
   "outputs": [
    {
     "name": "stdout",
     "output_type": "stream",
     "text": [
      "{1, 2, 3, 4, 5}\n"
     ]
    }
   ],
   "source": [
    "my_set = {1, 2, 3, 4, 5}\n",
    "print(my_set)"
   ]
  },
  {
   "cell_type": "code",
   "execution_count": 35,
   "id": "271d5020-47ae-48ff-82ec-acc12e79ece2",
   "metadata": {},
   "outputs": [
    {
     "name": "stdout",
     "output_type": "stream",
     "text": [
      "{6, 7, 8, 9, 10}\n"
     ]
    }
   ],
   "source": [
    "my_set = {6,7,8,9,10}\n",
    "print(my_set)"
   ]
  },
  {
   "cell_type": "markdown",
   "id": "b055d62f",
   "metadata": {},
   "source": [
    "### Creating a set from a list (to remove duplicates)"
   ]
  },
  {
   "cell_type": "code",
   "execution_count": 36,
   "id": "07f51492",
   "metadata": {
    "scrolled": true
   },
   "outputs": [
    {
     "name": "stdout",
     "output_type": "stream",
     "text": [
      "{1, 2, 3, 4, 5}\n"
     ]
    }
   ],
   "source": [
    "my_list = [1, 2, 2, 3, 4, 4, 5]\n",
    "unique_set = set(my_list)\n",
    "print(unique_set)"
   ]
  },
  {
   "cell_type": "code",
   "execution_count": 37,
   "id": "33ccfb22-a36d-4763-ae1f-7eb581d6b469",
   "metadata": {},
   "outputs": [
    {
     "name": "stdout",
     "output_type": "stream",
     "text": [
      "{6, 7, 8, 9, 10}\n"
     ]
    }
   ],
   "source": [
    "my_list =[6,6,7,8,8,9,10]\n",
    "unique_set=set(my_list)\n",
    "print(unique_set)"
   ]
  },
  {
   "cell_type": "markdown",
   "id": "ce26e5f6",
   "metadata": {},
   "source": [
    "### Adding and Removing Elements\n",
    "- You can add an element using the add() method and remove an element using the remove() method."
   ]
  },
  {
   "cell_type": "code",
   "execution_count": 39,
   "id": "4cfca486",
   "metadata": {},
   "outputs": [
    {
     "name": "stdout",
     "output_type": "stream",
     "text": [
      "{6, 7, 8, 9, 10, 11}\n",
      "{6, 7, 9, 10, 11}\n"
     ]
    }
   ],
   "source": [
    "my_set.add(11)\n",
    "print(my_set)\n",
    "\n",
    "my_set.remove(8)\n",
    "print(my_set)"
   ]
  },
  {
   "cell_type": "markdown",
   "id": "1bda5c55",
   "metadata": {},
   "source": [
    "### Set Operations\n",
    "- Sets support several mathematical operations such as union, intersection, difference, and symmetric difference."
   ]
  },
  {
   "cell_type": "markdown",
   "id": "676a4b2a",
   "metadata": {},
   "source": [
    "### Union: Elements present in either set"
   ]
  },
  {
   "cell_type": "code",
   "execution_count": 41,
   "id": "e84f58e2",
   "metadata": {},
   "outputs": [
    {
     "name": "stdout",
     "output_type": "stream",
     "text": [
      "Union: {1, 2, 3, 4, 5}\n"
     ]
    }
   ],
   "source": [
    "set1 = {1, 2, 3}\n",
    "set2 = {3, 4, 5}\n",
    "union_set = set1.union(set2)\n",
    "print(\"Union:\", union_set)  # Output: {1, 2, 3, 4, 5}"
   ]
  },
  {
   "cell_type": "code",
   "execution_count": 50,
   "id": "5a3b4a52-4d39-43ac-9c48-803caddc112b",
   "metadata": {
    "scrolled": true
   },
   "outputs": [
    {
     "name": "stdout",
     "output_type": "stream",
     "text": [
      "union {3, 4, 5, 6, 7}\n",
      "intersetion {5}\n"
     ]
    }
   ],
   "source": [
    "set1 = {3,4,5}\n",
    "set2 = {5,6,7}\n",
    "union_set=set1.union(set2)\n",
    "print(\"union\",union_set)\n",
    "intersection_set=set1.intersection(set2)\n",
    "print(\"intersetion\",intersection_set)\n"
   ]
  },
  {
   "cell_type": "code",
   "execution_count": null,
   "id": "20ce1dee-902e-40da-991d-b240388f317e",
   "metadata": {},
   "outputs": [],
   "source": [
    "difference_set=set1.difference_set(set2)\n",
    "print(\"difference_set\",difference_set)"
   ]
  },
  {
   "cell_type": "markdown",
   "id": "6be62d88",
   "metadata": {},
   "source": [
    "### Intersection: Elements present in both sets"
   ]
  },
  {
   "cell_type": "code",
   "execution_count": 42,
   "id": "f4605090",
   "metadata": {},
   "outputs": [
    {
     "name": "stdout",
     "output_type": "stream",
     "text": [
      "Intersection: {3}\n"
     ]
    }
   ],
   "source": [
    "intersection_set = set1.intersection(set2)\n",
    "print(\"Intersection:\", intersection_set)  # Output: {3}"
   ]
  },
  {
   "cell_type": "markdown",
   "id": "032fa4bf",
   "metadata": {},
   "source": [
    "### Difference: Elements present in set1 but not in set2"
   ]
  },
  {
   "cell_type": "code",
   "execution_count": 46,
   "id": "eee2ad56",
   "metadata": {},
   "outputs": [
    {
     "name": "stdout",
     "output_type": "stream",
     "text": [
      "Difference: {3, 4}\n"
     ]
    }
   ],
   "source": [
    "difference_set = set1.difference(set2)\n",
    "print(\"Difference:\", difference_set)  # Output: {1, 2}"
   ]
  },
  {
   "cell_type": "markdown",
   "id": "0491996f",
   "metadata": {},
   "source": [
    "### Symmetric Difference: Elements present in either set, but not both"
   ]
  },
  {
   "cell_type": "code",
   "execution_count": 78,
   "id": "7834f800",
   "metadata": {},
   "outputs": [
    {
     "name": "stdout",
     "output_type": "stream",
     "text": [
      "Symmetric Difference: {1, 2, 3, 6, 7, 8}\n"
     ]
    }
   ],
   "source": [
    "symmetric_difference_set = set1.symmetric_difference(set2)\n",
    "print(\"Symmetric Difference:\", symmetric_difference_set)  # Output: {1, 2, 4, 5}"
   ]
  },
  {
   "cell_type": "code",
   "execution_count": null,
   "id": "3dbd26d8",
   "metadata": {},
   "outputs": [],
   "source": [
    "# Practice Questions:\n",
    "# 1. Create a set with elements 1, 2, 3, 4, 5. Add the element 6 and remove the element 3.\n",
    "# 2. Convert a list with duplicate elements to a set to remove duplicates.\n",
    "# 3. Perform union, intersection, difference, and symmetric difference operations on two sets."
   ]
  },
  {
   "cell_type": "code",
   "execution_count": 64,
   "id": "52717453-26d2-495f-a5d0-7e0e3fc1ddf5",
   "metadata": {},
   "outputs": [
    {
     "name": "stdout",
     "output_type": "stream",
     "text": [
      "{1, 2, 3, 4, 5}\n",
      "{1, 2, 3, 4, 5, 6}\n"
     ]
    }
   ],
   "source": [
    "# 1.create a set with elements 1,2,3,4,5.add the element 6and remeove the element 3\n",
    "my_set = {1,2,3,4,5}\n",
    "print(my_set)\n",
    "\n",
    "my_set.add(6)\n",
    "print(my_set)"
   ]
  },
  {
   "cell_type": "code",
   "execution_count": 65,
   "id": "9e7f4e2a-2edd-46b6-abd3-fe243a8fd2aa",
   "metadata": {},
   "outputs": [
    {
     "name": "stdout",
     "output_type": "stream",
     "text": [
      "{1, 2, 4, 5, 6}\n"
     ]
    }
   ],
   "source": [
    "my_set.remove(3)\n",
    "print(my_set)"
   ]
  },
  {
   "cell_type": "code",
   "execution_count": 66,
   "id": "c62e8d43-04e2-48e6-9c6c-434ca7157183",
   "metadata": {},
   "outputs": [
    {
     "name": "stdout",
     "output_type": "stream",
     "text": [
      "{1, 2, 3, 6, 7, 8}\n"
     ]
    }
   ],
   "source": [
    "# 2.convert a lst with duplicate elements to a set to remove duplicates\n",
    "my_list = [2,2,3,1,6,7,8]\n",
    "unique_set=set(my_list)\n",
    "print(unique_set)"
   ]
  },
  {
   "cell_type": "code",
   "execution_count": null,
   "id": "85b40edc-d359-42e4-9282-ec429d5f7d66",
   "metadata": {},
   "outputs": [],
   "source": [
    "#perform union,intersection,difference,and symmetric diiference ontwo sets.\n",
    "set1={4,5,6,7,8}\n",
    "set2={1,2,3,4,5}\n",
    "union_set=set1.union(set2)\n",
    "print(\"union\",union_set)"
   ]
  },
  {
   "cell_type": "code",
   "execution_count": 74,
   "id": "db1e9d4d-757d-4c13-ba87-668f72672889",
   "metadata": {},
   "outputs": [
    {
     "name": "stdout",
     "output_type": "stream",
     "text": [
      "intersection {4, 5}\n"
     ]
    }
   ],
   "source": [
    "#intersection set\n",
    "intersection_set = set1.intersection(set2)\n",
    "print(\"intersection\",intersection_set)"
   ]
  },
  {
   "cell_type": "code",
   "execution_count": 76,
   "id": "35e2000c-9a43-4cd0-b646-a01e5bc7923c",
   "metadata": {},
   "outputs": [
    {
     "name": "stdout",
     "output_type": "stream",
     "text": [
      "difference {8, 6, 7}\n"
     ]
    }
   ],
   "source": [
    "#differece set\n",
    "difference_set = set1.difference(set2)\n",
    "print(\"difference\",difference_set)"
   ]
  },
  {
   "cell_type": "code",
   "execution_count": 79,
   "id": "717fe4f6-b689-454e-bcc1-429cdc797d89",
   "metadata": {},
   "outputs": [
    {
     "name": "stdout",
     "output_type": "stream",
     "text": [
      "symmetric_difference {1, 2, 3, 6, 7, 8}\n"
     ]
    }
   ],
   "source": [
    "#symmetric differences on two sets.\n",
    "symmetric_difference_set =set1.symmetric_difference(set2)\n",
    "print(\"symmetric_difference\",symmetric_difference_set)"
   ]
  },
  {
   "cell_type": "markdown",
   "id": "5bdff0ad",
   "metadata": {},
   "source": [
    "### Advanced Dictionary Operations"
   ]
  },
  {
   "cell_type": "markdown",
   "id": "2e8fba95",
   "metadata": {},
   "source": [
    "### 1. Merging Dictionaries\n",
    "- You can merge two dictionaries using the update() method or the ** unpacking operator."
   ]
  },
  {
   "cell_type": "code",
   "execution_count": 67,
   "id": "e18c5bf9",
   "metadata": {},
   "outputs": [
    {
     "name": "stdout",
     "output_type": "stream",
     "text": [
      "{'a': 1, 'b': 3, 'c': 4}\n"
     ]
    }
   ],
   "source": [
    "dict1 = {\"a\": 1, \"b\": 2}\n",
    "dict2 = {\"b\": 3, \"c\": 4}\n",
    "dict1.update(dict2)\n",
    "print(dict1)  # Output: {'a': 1, 'b': 3, 'c': 4}"
   ]
  },
  {
   "cell_type": "markdown",
   "id": "f2b37c80",
   "metadata": {},
   "source": [
    "### Using ** unpacking operator"
   ]
  },
  {
   "cell_type": "code",
   "execution_count": 80,
   "id": "fbd013e5",
   "metadata": {},
   "outputs": [
    {
     "name": "stdout",
     "output_type": "stream",
     "text": [
      "{'a': 1, 'b': 3, 'c': 4}\n"
     ]
    }
   ],
   "source": [
    "merged_dict = {**dict1, **dict2}\n",
    "print(merged_dict)  # Output: {'a': 1, 'b': 3, 'c': 4}"
   ]
  },
  {
   "cell_type": "markdown",
   "id": "6452256f",
   "metadata": {},
   "source": [
    "### 2. Dictionary Comprehension\n",
    "- Dictionary comprehensions provide a concise way to create dictionaries."
   ]
  },
  {
   "cell_type": "code",
   "execution_count": 81,
   "id": "1d698e37",
   "metadata": {},
   "outputs": [
    {
     "name": "stdout",
     "output_type": "stream",
     "text": [
      "{0: 0, 1: 1, 2: 4, 3: 9, 4: 16}\n"
     ]
    }
   ],
   "source": [
    "squares = {x: x**2 for x in range(5)}\n",
    "print(squares)  # Output: {0: 0, 1: 1, 2: 4, 3: 9, 4: 16}"
   ]
  },
  {
   "cell_type": "code",
   "execution_count": null,
   "id": "89ac9c5a",
   "metadata": {},
   "outputs": [],
   "source": [
    "# Practice Questions:\n",
    "# 1. Merge two dictionaries and print the result.\n",
    "# 2. Create a dictionary comprehension that maps numbers from 1 to 5 to their squares."
   ]
  },
  {
   "cell_type": "code",
   "execution_count": 82,
   "id": "0609403d-de67-42c9-81e7-dd3e7fcef115",
   "metadata": {},
   "outputs": [
    {
     "name": "stdout",
     "output_type": "stream",
     "text": [
      "{'a': 2, 'b': 4, 'c': 5}\n"
     ]
    }
   ],
   "source": [
    "#merge two dictionaries and print the result.\n",
    "dict1 = {\"a\": 2, \"b\" : 3}\n",
    "dict2 = {\"b\": 4, \"c\" : 5}\n",
    "dict1.update(dict2)\n",
    "print(dict1)"
   ]
  },
  {
   "cell_type": "markdown",
   "id": "b2ee17a1",
   "metadata": {},
   "source": [
    "### Advanced Set Operations"
   ]
  },
  {
   "cell_type": "markdown",
   "id": "c526a38d",
   "metadata": {},
   "source": [
    "### 1. Checking Subset and Superset\n",
    "- Use issubset() and issuperset() methods to check if one set is a subset or superset of another."
   ]
  },
  {
   "cell_type": "code",
   "execution_count": 84,
   "id": "76c5de8f",
   "metadata": {},
   "outputs": [
    {
     "name": "stdout",
     "output_type": "stream",
     "text": [
      "True\n",
      "True\n"
     ]
    }
   ],
   "source": [
    "set_a = {1, 2, 3}\n",
    "set_b = {1, 2, 3, 4, 5}\n",
    "print(set_a.issubset(set_b))  # Output: True\n",
    "print(set_b.issuperset(set_a))  # Output: True"
   ]
  },
  {
   "cell_type": "markdown",
   "id": "ac9a4227",
   "metadata": {},
   "source": [
    "### 2. Set Comprehension\n",
    "- Set comprehensions provide a concise way to create sets."
   ]
  },
  {
   "cell_type": "code",
   "execution_count": 85,
   "id": "58f8be8e",
   "metadata": {},
   "outputs": [
    {
     "name": "stdout",
     "output_type": "stream",
     "text": [
      "{0, 1, 64, 8, 27}\n"
     ]
    }
   ],
   "source": [
    "cubes = {x**3 for x in range(5)}\n",
    "print(cubes)  # Output: {0, 1, 8, 27, 64}"
   ]
  },
  {
   "cell_type": "code",
   "execution_count": null,
   "id": "b01de777",
   "metadata": {},
   "outputs": [],
   "source": [
    "# Practice Questions:\n",
    "# 1. Check if a set {1, 2, 3} is a subset of {1, 2, 3, 4, 5}.\n",
    "# 2. Create a set comprehension that contains the cubes of numbers from 0 to 4."
   ]
  },
  {
   "cell_type": "code",
   "execution_count": 87,
   "id": "3ad39615-8577-4e0d-96ff-7f05849c2bee",
   "metadata": {},
   "outputs": [
    {
     "name": "stdout",
     "output_type": "stream",
     "text": [
      "True\n",
      "True\n"
     ]
    }
   ],
   "source": [
    "#check if a set {1,2,3} is a subset of {1,2,4,5}\n",
    "set_a = {1,2,3}\n",
    "set_b = {1,2,3,4,5}\n",
    "print(set_a.issubset(set_b))\n",
    "print(set_b.issuperset(set_a))     "
   ]
  }
 ],
 "metadata": {
  "kernelspec": {
   "display_name": "Python 3 (ipykernel)",
   "language": "python",
   "name": "python3"
  },
  "language_info": {
   "codemirror_mode": {
    "name": "ipython",
    "version": 3
   },
   "file_extension": ".py",
   "mimetype": "text/x-python",
   "name": "python",
   "nbconvert_exporter": "python",
   "pygments_lexer": "ipython3",
   "version": "3.12.7"
  }
 },
 "nbformat": 4,
 "nbformat_minor": 5
}
