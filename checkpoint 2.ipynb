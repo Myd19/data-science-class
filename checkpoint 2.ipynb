{
 "cells": [
  {
   "cell_type": "code",
   "execution_count": 1,
   "id": "8d9ef093-4f93-4be4-b833-57bfaaef30d4",
   "metadata": {},
   "outputs": [],
   "source": [
    "import numpy as np"
   ]
  },
  {
   "cell_type": "code",
   "execution_count": 13,
   "id": "006958a6-26f9-40da-8f08-156d407959fb",
   "metadata": {},
   "outputs": [
    {
     "name": "stdout",
     "output_type": "stream",
     "text": [
      "[ 2  4  6  8 10]\n",
      "[0. 0. 0. 0. 0. 0. 0.]\n",
      "[5 5 5 5 5 5 5 5 5]\n"
     ]
    }
   ],
   "source": [
    "##create the folowing using numpy:\n",
    "array_from_list = np.array([2,4,6,8,10])\n",
    "print(array_from_list)\n",
    "\n",
    "#array of 7 zeros\n",
    "zeros_array = np.zeros(7)\n",
    "print(zeros_array)\n",
    "\n",
    "#array of 9 fives\n",
    "full_array = np.full(9, 5)\n",
    "print(full_array)"
   ]
  },
  {
   "cell_type": "code",
   "execution_count": 22,
   "id": "f0c951a7-e00c-4457-8be8-9f09ea91560a",
   "metadata": {
    "scrolled": true
   },
   "outputs": [
    {
     "name": "stdout",
     "output_type": "stream",
     "text": [
      "[[1 2 3]\n",
      " [4 5 6]]\n",
      "(2, 3)\n",
      "6\n",
      "2\n"
     ]
    }
   ],
   "source": [
    "##Given the array arr= np.array([[1,2,3],[2,5,6]])\n",
    "arr = np.array([[1,2,3],[4,5,6]])\n",
    "print(arr)\n",
    "print(arr.shape)\n",
    "print(arr.size)\n",
    "print(arr.ndim)"
   ]
  },
  {
   "cell_type": "code",
   "execution_count": 39,
   "id": "f5bd1a4e-62b2-4b8f-9044-563c67798c3c",
   "metadata": {
    "scrolled": true
   },
   "outputs": [
    {
     "name": "stdout",
     "output_type": "stream",
     "text": [
      "[[10 20 30]\n",
      " [40 50 60]\n",
      " [70 80 90]]\n",
      "80\n",
      "[[40 50 60]\n",
      " [70 80 90]]\n"
     ]
    }
   ],
   "source": [
    "##Given the array:\n",
    "arr = np.array([[10,20,30],[40,50,60],[70,80,90]])\n",
    "print(arr)\n",
    "print(arr[2,1])\n",
    "print(arr[1:3,:])"
   ]
  },
  {
   "cell_type": "code",
   "execution_count": 40,
   "id": "19620aa3-d357-4d4c-87d7-ce152bd92a50",
   "metadata": {
    "scrolled": true
   },
   "outputs": [
    {
     "name": "stdout",
     "output_type": "stream",
     "text": [
      "[ 3  7 11]\n",
      "[ 2 12 30]\n"
     ]
    }
   ],
   "source": [
    "##Given the array:\n",
    "a = np.array([1,3,5])\n",
    "b = np.array([2,4,6])\n",
    "print(a + b)\n",
    "print(a * b)\n"
   ]
  },
  {
   "cell_type": "code",
   "execution_count": 42,
   "id": "8ec63d34-17d1-47a3-aca7-9d3c7c280748",
   "metadata": {
    "scrolled": true
   },
   "outputs": [
    {
     "name": "stdout",
     "output_type": "stream",
     "text": [
      "[1 4 9]\n",
      "[1. 2. 3.]\n",
      "[0.         1.38629436 2.19722458]\n"
     ]
    }
   ],
   "source": [
    "##for the array\n",
    "arr = np.array([1,4,9])\n",
    "print(arr)\n",
    "print(np.sqrt(arr))\n",
    "print(np.log(arr))"
   ]
  },
  {
   "cell_type": "code",
   "execution_count": 46,
   "id": "d6a0cb72-19ec-417b-ae0c-90d0b8ce34cc",
   "metadata": {},
   "outputs": [
    {
     "name": "stdout",
     "output_type": "stream",
     "text": [
      "[ 5 10 15 20 25 30 35 40 45]\n",
      "[0.  0.2 0.4 0.6 0.8 1. ]\n"
     ]
    }
   ],
   "source": [
    "##use numpy to:\n",
    "#create an array of numbers from 5 to 50 with a step of 5\n",
    "arange_array = np.arange(5 ,50, 5)\n",
    "print(arange_array)\n",
    "linspace_array = np.linspace(0,1,6)\n",
    "print(linspace_array)\n"
   ]
  },
  {
   "cell_type": "code",
   "execution_count": 55,
   "id": "2397b719-925a-4ce3-8280-14ae299574af",
   "metadata": {
    "scrolled": true
   },
   "outputs": [
    {
     "name": "stdout",
     "output_type": "stream",
     "text": [
      "[12 15 18 21 24]\n",
      "mean: 18.0\n",
      "median: 18.0\n",
      "sum: 90\n",
      "cumulative sum: [12 27 45 66 90]\n"
     ]
    }
   ],
   "source": [
    "## for the array:\n",
    "data = np.array([12,15,18,21,24])\n",
    "print(data)\n",
    "mean = np.mean(data)\n",
    "median = np.median(data)\n",
    "print(\"mean:\", mean)\n",
    "print(\"median:\", median)\n",
    "sum_data = np.sum(data)\n",
    "cumsum_data = np.cumsum(data)\n",
    "print(\"sum:\",sum_data)\n",
    "print(\"cumulative sum:\",cumsum_data)"
   ]
  },
  {
   "cell_type": "code",
   "execution_count": 68,
   "id": "18ab08d1-7b74-4b89-87b1-83333286310b",
   "metadata": {
    "scrolled": true
   },
   "outputs": [
    {
     "name": "stdout",
     "output_type": "stream",
     "text": [
      "[[1 2]\n",
      " [3 4]\n",
      " [5 6]]\n",
      "(3, 2)\n"
     ]
    }
   ],
   "source": [
    "##Given a 2D array:\n",
    "Matrix_A = np.array([[1,2],[3,4],[5,6]])\n",
    "print(Matrix_A)\n",
    "print(Matrix_A.shape)"
   ]
  },
  {
   "cell_type": "code",
   "execution_count": null,
   "id": "59a6424a-289e-47a0-91a6-0faeb4400981",
   "metadata": {},
   "outputs": [],
   "source": []
  }
 ],
 "metadata": {
  "kernelspec": {
   "display_name": "Python 3 (ipykernel)",
   "language": "python",
   "name": "python3"
  },
  "language_info": {
   "codemirror_mode": {
    "name": "ipython",
    "version": 3
   },
   "file_extension": ".py",
   "mimetype": "text/x-python",
   "name": "python",
   "nbconvert_exporter": "python",
   "pygments_lexer": "ipython3",
   "version": "3.12.7"
  }
 },
 "nbformat": 4,
 "nbformat_minor": 5
}
