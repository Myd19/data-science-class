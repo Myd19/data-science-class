{
 "cells": [
  {
   "cell_type": "markdown",
   "id": "422fe7b6",
   "metadata": {},
   "source": [
    "### Python Basic Syntax"
   ]
  },
  {
   "cell_type": "code",
   "execution_count": 15,
   "id": "8dc5e916",
   "metadata": {},
   "outputs": [
    {
     "name": "stdout",
     "output_type": "stream",
     "text": [
      "Hello, World!\n"
     ]
    },
    {
     "data": {
      "text/plain": [
       "'\\nThis is a \\nmulti-line comment\\n'"
      ]
     },
     "execution_count": 15,
     "metadata": {},
     "output_type": "execute_result"
    }
   ],
   "source": [
    "# Print Statement\n",
    "print(\"Hello, World!\") \n",
    "\n",
    "# Comments\n",
    "# This is a single-line comment\n",
    "\"\"\"\n",
    "This is a \n",
    "multi-line comment\n",
    "\"\"\""
   ]
  },
  {
   "cell_type": "code",
   "execution_count": 17,
   "id": "d412f568-0014-4f58-9711-cf039e907a8a",
   "metadata": {},
   "outputs": [
    {
     "name": "stdout",
     "output_type": "stream",
     "text": [
      "Hi,love\n"
     ]
    },
    {
     "data": {
      "text/plain": [
       "'\\nThis is a \\ncool environment\\n'"
      ]
     },
     "execution_count": 17,
     "metadata": {},
     "output_type": "execute_result"
    }
   ],
   "source": [
    "#print statement [simgle-line comment\n",
    "print(\"Hi,love\")\n",
    "#print statement(multi line comment)\n",
    "\"\"\"\n",
    "This is a \n",
    "cool environment\n",
    "\"\"\""
   ]
  },
  {
   "cell_type": "code",
   "execution_count": 28,
   "id": "dfa95b88",
   "metadata": {},
   "outputs": [],
   "source": [
    "t = 5+4"
   ]
  },
  {
   "cell_type": "code",
   "execution_count": 26,
   "id": "44764804-dfc3-4a9e-bd07-e25272219693",
   "metadata": {},
   "outputs": [],
   "source": [
    "T = 19+2"
   ]
  },
  {
   "cell_type": "code",
   "execution_count": null,
   "id": "9db8e43f",
   "metadata": {},
   "outputs": [],
   "source": [
    "# Practice Questions:\n",
    "# 1. Write a program to print \"Welcome to Python Programming\".\n",
    "# 2. Write comments explaining what each line of your program does."
   ]
  },
  {
   "cell_type": "code",
   "execution_count": 30,
   "id": "8a97a1b4-ab43-4c8d-a7e6-69596324d2ec",
   "metadata": {},
   "outputs": [
    {
     "name": "stdout",
     "output_type": "stream",
     "text": [
      "welcome to python programming\n"
     ]
    }
   ],
   "source": [
    "#print a single line satatement\n",
    "print(\"welcome to python programming\")"
   ]
  },
  {
   "cell_type": "code",
   "execution_count": 31,
   "id": "b9230174-cdd7-49de-be34-227d3c67eb62",
   "metadata": {},
   "outputs": [
    {
     "data": {
      "text/plain": [
       "'\\nThis ia multi like comment\\n'"
      ]
     },
     "execution_count": 31,
     "metadata": {},
     "output_type": "execute_result"
    }
   ],
   "source": [
    "#write comment explaining what each of your program does\n",
    "\"\"\"\n",
    "This ia multi like comment\n",
    "\"\"\""
   ]
  },
  {
   "cell_type": "markdown",
   "id": "71851fb3",
   "metadata": {},
   "source": [
    "### Python Variables/Constants"
   ]
  },
  {
   "cell_type": "code",
   "execution_count": 32,
   "id": "30895749",
   "metadata": {},
   "outputs": [
    {
     "name": "stdout",
     "output_type": "stream",
     "text": [
      "Variable x: 10\n"
     ]
    }
   ],
   "source": [
    "# Variables\n",
    "# Variables are used to store data that can be changed later. \n",
    "# In Python, you can assign a value to a variable using the assignment operator '='.\n",
    "\n",
    "# Example of a variable:\n",
    "x = 10\n",
    "print(\"Variable x:\", x)"
   ]
  },
  {
   "cell_type": "code",
   "execution_count": 33,
   "id": "cbd159e0-fa3c-4947-8d8c-5e7a3c3f3630",
   "metadata": {},
   "outputs": [
    {
     "name": "stdout",
     "output_type": "stream",
     "text": [
      "variable x: 19\n"
     ]
    }
   ],
   "source": [
    "#assigning of the variables \n",
    "x = 19\n",
    "print(\"variable x:\",x)"
   ]
  },
  {
   "cell_type": "code",
   "execution_count": 34,
   "id": "c787c13b",
   "metadata": {},
   "outputs": [
    {
     "name": "stdout",
     "output_type": "stream",
     "text": [
      "Updated variable x: 20\n"
     ]
    }
   ],
   "source": [
    "# You can change the value of a variable by assigning a new value to it:\n",
    "x = 20\n",
    "print(\"Updated variable x:\", x)"
   ]
  },
  {
   "cell_type": "code",
   "execution_count": 35,
   "id": "0b7716e7-eefe-448c-8fac-ed9b2d99050b",
   "metadata": {},
   "outputs": [
    {
     "name": "stdout",
     "output_type": "stream",
     "text": [
      "update variable x: 100\n"
     ]
    }
   ],
   "source": [
    "#updating of assigned variable \n",
    "x = 100\n",
    "print(\"update variable x:\",x)"
   ]
  },
  {
   "cell_type": "code",
   "execution_count": 36,
   "id": "4e62897a",
   "metadata": {},
   "outputs": [
    {
     "name": "stdout",
     "output_type": "stream",
     "text": [
      "Constant PI: 3.14159\n"
     ]
    }
   ],
   "source": [
    "# Constants\n",
    "# Constants are used to store data that should not change throughout the program. \n",
    "# By convention, constants are usually written in all uppercase letters.\n",
    "\n",
    "# Python does not have a built-in constant type, but you can use naming conventions to indicate that a variable should be treated as a constant.\n",
    "\n",
    "# Example of a constant:\n",
    "PI = 3.14159\n",
    "print(\"Constant PI:\", PI)"
   ]
  },
  {
   "cell_type": "code",
   "execution_count": null,
   "id": "24663d25",
   "metadata": {},
   "outputs": [],
   "source": [
    "# Although you can technically change the value of a constant, you should avoid doing so to prevent confusion and errors in your code.\n",
    "# Example (not recommended):\n",
    "PI = 3.14  # This is not recommended, as it breaks the constant convention.\n",
    "print(\"Updated constant PI (not recommended):\", PI)"
   ]
  },
  {
   "cell_type": "code",
   "execution_count": 39,
   "id": "f3c71899",
   "metadata": {},
   "outputs": [
    {
     "name": "stdout",
     "output_type": "stream",
     "text": [
      "variable name: olaitan\n",
      "constant SPL: 299792458\n"
     ]
    }
   ],
   "source": [
    "# Practice Questions:\n",
    "# 1. Create a variable `name` and assign your name to it.\n",
    "name = \"olaitan\"\n",
    "print(\"variable name:\",name)\n",
    "# 2. Define a constant `SPEED_OF_LIGHT` and assign it the value `299792458`.\n",
    "SPL = 299792458\n",
    "print(\"constant SPL:\",SPL)"
   ]
  },
  {
   "cell_type": "markdown",
   "id": "f8aa1226",
   "metadata": {},
   "source": [
    "### Assigning / Reassigning value to a variable"
   ]
  },
  {
   "cell_type": "code",
   "execution_count": 43,
   "id": "f371976c",
   "metadata": {},
   "outputs": [],
   "source": [
    "# Assigning a value to a variable\n",
    "age = 25\n",
    "\n",
    "# Reassigning a value to a variable\n",
    "age = 26"
   ]
  },
  {
   "cell_type": "code",
   "execution_count": null,
   "id": "f22966b9",
   "metadata": {},
   "outputs": [],
   "source": [
    "age"
   ]
  },
  {
   "cell_type": "code",
   "execution_count": 46,
   "id": "4ecd1dde",
   "metadata": {},
   "outputs": [
    {
     "name": "stdout",
     "output_type": "stream",
     "text": [
      "10\n",
      "15\n"
     ]
    }
   ],
   "source": [
    "# Practice Questions:\n",
    "# 1. Assign the value 10 to a variable `a`, then reassign it to 15.\n",
    "a = 10\n",
    "print(a)\n",
    "#reassigning a value to a variable\n",
    "a = 15\n",
    "print(a)\n",
    "# 2. Create a variable `b`, assign it the value 20, then change its value to 30."
   ]
  },
  {
   "cell_type": "markdown",
   "id": "5bc5dc8e",
   "metadata": {},
   "source": [
    "### Python Arithmetic Operators"
   ]
  },
  {
   "cell_type": "code",
   "execution_count": 48,
   "id": "1943ab65",
   "metadata": {},
   "outputs": [],
   "source": [
    "a = 10\n",
    "b = 3"
   ]
  },
  {
   "cell_type": "code",
   "execution_count": 50,
   "id": "398b86da",
   "metadata": {},
   "outputs": [],
   "source": [
    "# Addition\n",
    "add = a + b  # 13"
   ]
  },
  {
   "cell_type": "code",
   "execution_count": 51,
   "id": "fb40d801",
   "metadata": {},
   "outputs": [
    {
     "data": {
      "text/plain": [
       "13"
      ]
     },
     "execution_count": 51,
     "metadata": {},
     "output_type": "execute_result"
    }
   ],
   "source": [
    "add"
   ]
  },
  {
   "cell_type": "code",
   "execution_count": 56,
   "id": "622c77ae-a9d3-4c07-bf04-64919069aa9f",
   "metadata": {},
   "outputs": [
    {
     "name": "stdout",
     "output_type": "stream",
     "text": [
      "21\n"
     ]
    }
   ],
   "source": [
    "a = 19\n",
    "b = 2\n",
    "#addition\n",
    "add = a + b\n",
    "print(add)"
   ]
  },
  {
   "cell_type": "code",
   "execution_count": 57,
   "id": "46074fe7",
   "metadata": {},
   "outputs": [
    {
     "name": "stdout",
     "output_type": "stream",
     "text": [
      "addition of a & b = 21\n"
     ]
    }
   ],
   "source": [
    "print (\"addition of a & b =\", add)"
   ]
  },
  {
   "cell_type": "code",
   "execution_count": 61,
   "id": "b5ff4ae4",
   "metadata": {},
   "outputs": [],
   "source": [
    "# Subtraction\n",
    "a = 19\n",
    "b = 2\n",
    "subtract = a - b  # 7"
   ]
  },
  {
   "cell_type": "code",
   "execution_count": 63,
   "id": "6a69ef85-1919-46cc-acbf-eaa0fa8c3cd3",
   "metadata": {},
   "outputs": [
    {
     "name": "stdout",
     "output_type": "stream",
     "text": [
      "subtract of a - b = 17\n"
     ]
    }
   ],
   "source": [
    "print(\"subtract of a - b =\",subtract)"
   ]
  },
  {
   "cell_type": "code",
   "execution_count": 65,
   "id": "75d8c764",
   "metadata": {},
   "outputs": [
    {
     "name": "stdout",
     "output_type": "stream",
     "text": [
      "multiply of a*b = 38\n"
     ]
    }
   ],
   "source": [
    "# Multiplication\n",
    "multiply = a * b  # 30\n",
    "print(\"multiply of a*b =\",multiply)"
   ]
  },
  {
   "cell_type": "code",
   "execution_count": 66,
   "id": "86624bee",
   "metadata": {},
   "outputs": [
    {
     "name": "stdout",
     "output_type": "stream",
     "text": [
      "divide of a/b= 9.5\n"
     ]
    }
   ],
   "source": [
    "# Division\n",
    "divide = a / b  # 3.333...\n",
    "print(\"divide of a/b=\",divide)"
   ]
  },
  {
   "cell_type": "code",
   "execution_count": 67,
   "id": "10510dbc",
   "metadata": {},
   "outputs": [
    {
     "name": "stdout",
     "output_type": "stream",
     "text": [
      "Modulo: 1\n"
     ]
    }
   ],
   "source": [
    "# Modulo\n",
    "# The modulo operator (%) returns the remainder of the division of two numbers.\n",
    "# For example, 10 % 3 is 1 because 10 divided by 3 is 3 with a remainder of 1.\n",
    "\n",
    "a = 10\n",
    "b = 3\n",
    "modulo_result = a % b\n",
    "print(\"Modulo:\", modulo_result)  # Output: 1"
   ]
  },
  {
   "cell_type": "code",
   "execution_count": 72,
   "id": "dc41ba7f-97c7-483a-ad9a-fc78828b7b58",
   "metadata": {},
   "outputs": [
    {
     "name": "stdout",
     "output_type": "stream",
     "text": [
      "modulo: 2\n"
     ]
    }
   ],
   "source": [
    "#the module operator (%) return the remainder of the division of two numbers\n",
    "a =12\n",
    "b =5\n",
    "modulo_result = a % b\n",
    "print(\"modulo:\", modulo_result)"
   ]
  },
  {
   "cell_type": "code",
   "execution_count": 73,
   "id": "90aeba27",
   "metadata": {},
   "outputs": [
    {
     "name": "stdout",
     "output_type": "stream",
     "text": [
      "Exponent: 8\n"
     ]
    }
   ],
   "source": [
    "# Exponent\n",
    "# The exponent operator (**) raises the first number to the power of the second number.\n",
    "# For example, 2 ** 3 is 8 because 2 raised to the power of 3 is 8.\n",
    "\n",
    "base = 2\n",
    "exponent = 3\n",
    "exponent_result = base ** exponent\n",
    "print(\"Exponent:\", exponent_result)  # Output: 8"
   ]
  },
  {
   "cell_type": "code",
   "execution_count": 74,
   "id": "014d345b",
   "metadata": {},
   "outputs": [
    {
     "name": "stdout",
     "output_type": "stream",
     "text": [
      "Floor Division: 2\n"
     ]
    }
   ],
   "source": [
    "# Floor Division\n",
    "# The floor division operator (//) divides two numbers and returns the largest integer less than or equal to the result.\n",
    "# For example, 10 // 3 is 3 because 10 divided by 3 is 3.333, and the floor of 3.333 is 3.\n",
    "\n",
    "floor_division_result = a // b\n",
    "print(\"Floor Division:\", floor_division_result)  # Output: 3"
   ]
  },
  {
   "cell_type": "code",
   "execution_count": 81,
   "id": "f6cf13bd",
   "metadata": {},
   "outputs": [
    {
     "name": "stdout",
     "output_type": "stream",
     "text": [
      "17\n",
      "addition of a & b = 17\n",
      "subtract of a - b = 7\n",
      "multiply of a * b= 60\n",
      "divide of a / b= 2.4\n"
     ]
    }
   ],
   "source": [
    "# Practice Questions:\n",
    "# 1. Perform addition, subtraction, multiplication, and division on two numbers.\n",
    "a = 12\n",
    "b = 5 \n",
    "#addition \n",
    "add = a + b\n",
    "print (add)\n",
    "print(\"addition of a & b =\",add)\n",
    "\n",
    "#subtraction\n",
    "a = 12\n",
    "b = 5 \n",
    "subtract = a - b\n",
    "print(\"subtract of a - b =\",subtract)\n",
    "\n",
    "#multiplication \n",
    "a = 12\n",
    "b = 5\n",
    "multiply = a * b\n",
    "print(\"multiply of a * b=\",multiply)\n",
    "\n",
    "# division \n",
    "a = 12\n",
    "b = 5\n",
    "divide = a / b\n",
    "print(\"divide of a / b=\",divide)\n",
    "# 2. Find the modulus, exponent, and floor division of two numbers."
   ]
  },
  {
   "cell_type": "markdown",
   "id": "f0b6cc3b",
   "metadata": {},
   "source": [
    "### Python Comparison Operators"
   ]
  },
  {
   "cell_type": "code",
   "execution_count": 47,
   "id": "ac97d429",
   "metadata": {},
   "outputs": [],
   "source": [
    "a = 10\n",
    "b = 3"
   ]
  },
  {
   "cell_type": "code",
   "execution_count": 82,
   "id": "e8a8dba4",
   "metadata": {},
   "outputs": [],
   "source": [
    "# Equal\n",
    "equal = (a == b)  # False"
   ]
  },
  {
   "cell_type": "code",
   "execution_count": 83,
   "id": "bcf3b4f9",
   "metadata": {
    "scrolled": true
   },
   "outputs": [
    {
     "data": {
      "text/plain": [
       "False"
      ]
     },
     "execution_count": 83,
     "metadata": {},
     "output_type": "execute_result"
    }
   ],
   "source": [
    "equal"
   ]
  },
  {
   "cell_type": "code",
   "execution_count": 85,
   "id": "15e67d36-e8a6-41aa-ab7c-07e7d601bb05",
   "metadata": {},
   "outputs": [
    {
     "name": "stdout",
     "output_type": "stream",
     "text": [
      "False\n"
     ]
    }
   ],
   "source": [
    "a = 20\n",
    "b = 3\n",
    "#Equal \n",
    "equal = (a == b)\n",
    "print(equal)"
   ]
  },
  {
   "cell_type": "code",
   "execution_count": 87,
   "id": "34bdfa19",
   "metadata": {},
   "outputs": [
    {
     "name": "stdout",
     "output_type": "stream",
     "text": [
      "True\n"
     ]
    }
   ],
   "source": [
    "# Not Equal\n",
    "a = 20\n",
    "b = 3\n",
    "not_equal = (a != b)\n",
    "print(not_equal) # True"
   ]
  },
  {
   "cell_type": "code",
   "execution_count": 88,
   "id": "53dac485",
   "metadata": {},
   "outputs": [
    {
     "name": "stdout",
     "output_type": "stream",
     "text": [
      "True\n"
     ]
    }
   ],
   "source": [
    "# Greater than\n",
    "a = 20\n",
    "b = 3\n",
    "greater_than = (a > b)\n",
    "print(greater_than)# True"
   ]
  },
  {
   "cell_type": "code",
   "execution_count": 89,
   "id": "8d8cdabd",
   "metadata": {},
   "outputs": [
    {
     "name": "stdout",
     "output_type": "stream",
     "text": [
      "False\n"
     ]
    }
   ],
   "source": [
    "# Less than\n",
    "a = 20\n",
    "b = 3\n",
    "less_than = (a < b)\n",
    "print(less_than)# False"
   ]
  },
  {
   "cell_type": "code",
   "execution_count": 90,
   "id": "fe613b58",
   "metadata": {},
   "outputs": [
    {
     "name": "stdout",
     "output_type": "stream",
     "text": [
      "True\n"
     ]
    }
   ],
   "source": [
    "# Greater than or equal to\n",
    "a = 20\n",
    "b = 20\n",
    "greater_than_equal = (a >= b)\n",
    "print(greater_than_equal)# True"
   ]
  },
  {
   "cell_type": "code",
   "execution_count": 92,
   "id": "4ab4c9ff",
   "metadata": {},
   "outputs": [
    {
     "name": "stdout",
     "output_type": "stream",
     "text": [
      "True\n"
     ]
    }
   ],
   "source": [
    "# Less than or equal to\n",
    "a = 20\n",
    "b = 30\n",
    "less_than_equal = (a <= b)\n",
    "print(less_than_equal)# False"
   ]
  },
  {
   "cell_type": "code",
   "execution_count": 111,
   "id": "5f02bc28",
   "metadata": {},
   "outputs": [
    {
     "name": "stdout",
     "output_type": "stream",
     "text": [
      "True\n",
      "False\n",
      "True\n",
      "True\n",
      "False\n",
      "True\n",
      "False\n"
     ]
    }
   ],
   "source": [
    "# Practice Questions:\n",
    "# 1. Compare two numbers using all the comparison operators and print the results.\n",
    "a=30\n",
    "check =a>=18\n",
    "print(check)\n",
    "a = 30\n",
    "b =18\n",
    "#Equal\n",
    "equal = (a == b)\n",
    "print(equal)\n",
    "\n",
    "#Not_equal\n",
    "a = 30\n",
    "b = 18\n",
    "not_equal = (a!= b)\n",
    "print(not_equal)\n",
    "\n",
    "#greater than\n",
    "greater_than = (a > b)\n",
    "print(greater_than)\n",
    "\n",
    "#less than \n",
    "a =30\n",
    "b =18\n",
    "less_than =(a<b)\n",
    "print(less_than)\n",
    "\n",
    "#greater than or equal to\n",
    "a = 30\n",
    "b = 18\n",
    "greater_than_equal = (a >= b)\n",
    "print(greater_than_equal)\n",
    "\n",
    "#less than or equal to\n",
    "a = 30\n",
    "b = 18\n",
    "less_than_equal =(a<=b)\n",
    "print(less_than_equal)\n",
    "\n",
    "\n",
    "# 2. Write a program that checks if a number is greater than or equal to 18.\n"
   ]
  },
  {
   "cell_type": "markdown",
   "id": "56f982e3",
   "metadata": {},
   "source": [
    "### Python Data Types"
   ]
  },
  {
   "cell_type": "code",
   "execution_count": 112,
   "id": "cbbee8c0",
   "metadata": {},
   "outputs": [
    {
     "name": "stdout",
     "output_type": "stream",
     "text": [
      "Integer: 10\n",
      "Float: 10.5\n",
      "String: Hello\n",
      "Boolean: True\n",
      "List: [1, 2, 3, 4, 5]\n",
      "Tuple: (1, 2, 3, 4, 5)\n",
      "Dictionary: {'name': 'Alice', 'age': 25}\n",
      "Set: {1, 2, 3, 4, 5}\n"
     ]
    }
   ],
   "source": [
    "# Integers\n",
    "# Integers are whole numbers without a decimal point.\n",
    "integer = 10\n",
    "print(\"Integer:\", integer)\n",
    "\n",
    "# Float\n",
    "# Floats are numbers that have a decimal point.\n",
    "floating_point = 10.5\n",
    "print(\"Float:\", floating_point)\n",
    "\n",
    "# String\n",
    "# Strings are sequences of characters enclosed in quotes.\n",
    "string = \"Hello\"\n",
    "print(\"String:\", string)\n",
    "\n",
    "# Boolean\n",
    "# Booleans represent one of two values: True or False.\n",
    "boolean = True\n",
    "print(\"Boolean:\", boolean)\n",
    "\n",
    "# List\n",
    "# Lists are ordered collections of items, which can be of different types. Lists are mutable, meaning you can change their content.\n",
    "my_list = [1, 2, 3, 4, 5]\n",
    "print(\"List:\", my_list)\n",
    "\n",
    "# Tuple\n",
    "# Tuples are ordered collections of items, similar to lists, but they are immutable, meaning you cannot change their content once created.\n",
    "my_tuple = (1, 2, 3, 4, 5)\n",
    "print(\"Tuple:\", my_tuple)\n",
    "\n",
    "# Dictionary\n",
    "# Dictionaries are collections of key-value pairs. Each key is unique and is used to access the corresponding value.\n",
    "my_dict = {\"name\": \"Alice\", \"age\": 25}\n",
    "print(\"Dictionary:\", my_dict)\n",
    "\n",
    "# Set\n",
    "# Sets are unordered collections of unique items. They are useful for storing items where duplication is not allowed.\n",
    "my_set = {1, 2, 3, 4, 5}\n",
    "print(\"Set:\", my_set)"
   ]
  },
  {
   "cell_type": "markdown",
   "id": "5351186f",
   "metadata": {},
   "source": [
    "### Python String"
   ]
  },
  {
   "cell_type": "code",
   "execution_count": 120,
   "id": "1b355577",
   "metadata": {},
   "outputs": [],
   "source": [
    "# Single quotes\n",
    "single_quote_string = 'Hello'\n",
    "\n",
    "# Double quotes\n",
    "double_quote_string = \"World\"\n",
    "\n",
    "# Triple quotes\n",
    "triple_quote_string = '''Hello \n",
    "World'''"
   ]
  },
  {
   "cell_type": "code",
   "execution_count": 123,
   "id": "0829d105",
   "metadata": {
    "scrolled": true
   },
   "outputs": [
    {
     "name": "stdout",
     "output_type": "stream",
     "text": [
      "singel_quote_string: Hello\n",
      "double_quote_string: world\n",
      "Hello \n",
      "World\n"
     ]
    }
   ],
   "source": [
    "# Practice Questions:\n",
    "# 1. Create a string using single, double, and triple quotes.\n",
    "\n",
    "single_quotes_string = 'Hi'\n",
    "print('singel_quote_string:',single_quote_string)\n",
    "\n",
    "double_quote_string =\"world\"\n",
    "print('double_quote_string:',double_quote_string)\n",
    "tripple_quote_string = ''' Hi world'''\n",
    "print(triple_quote_string)\n",
    "\n"
   ]
  },
  {
   "cell_type": "markdown",
   "id": "1b8355c7",
   "metadata": {},
   "source": [
    "### Python String Operations"
   ]
  },
  {
   "cell_type": "code",
   "execution_count": null,
   "id": "bc49aed5",
   "metadata": {},
   "outputs": [],
   "source": [
    "string1 = \"Hello\"\n",
    "string2 = \"World\""
   ]
  },
  {
   "cell_type": "code",
   "execution_count": null,
   "id": "86a121f5",
   "metadata": {},
   "outputs": [],
   "source": [
    "# Concatenation\n",
    "concat = string1 + \" \" + string2 + \" my foot\" + \"3\" # \"Hello World\""
   ]
  },
  {
   "cell_type": "code",
   "execution_count": null,
   "id": "983f9bcc",
   "metadata": {},
   "outputs": [],
   "source": [
    "concat"
   ]
  },
  {
   "cell_type": "code",
   "execution_count": null,
   "id": "58b5fc40",
   "metadata": {},
   "outputs": [],
   "source": [
    "# Repetition\n",
    "repeat = string1 * 3  # \"HelloHelloHello\""
   ]
  },
  {
   "cell_type": "code",
   "execution_count": null,
   "id": "4d6544c6",
   "metadata": {},
   "outputs": [],
   "source": [
    "repeat"
   ]
  },
  {
   "cell_type": "code",
   "execution_count": null,
   "id": "89232ec3",
   "metadata": {},
   "outputs": [],
   "source": [
    "\"three \" *3"
   ]
  },
  {
   "cell_type": "code",
   "execution_count": null,
   "id": "835ac533",
   "metadata": {},
   "outputs": [],
   "source": [
    "# Slicing\n",
    "slice = string1[1:4]  # \"ell\""
   ]
  },
  {
   "cell_type": "code",
   "execution_count": 128,
   "id": "3700372b",
   "metadata": {},
   "outputs": [],
   "source": [
    "# Length\n",
    "length = len(string1)  # 5"
   ]
  },
  {
   "cell_type": "code",
   "execution_count": 129,
   "id": "524603f5",
   "metadata": {},
   "outputs": [
    {
     "name": "stdout",
     "output_type": "stream",
     "text": [
      "ai\n",
      "7\n"
     ]
    }
   ],
   "source": [
    "# Practice Questions:\n",
    "# 1. Concatenate two strings.\n",
    "string1 = \"olaitan\"\n",
    "string2 = \"yekeen\"\n",
    "concat = string1 + \"  \" + string2 +\" my foot\" + \"3\"\n",
    "# 2. Slice a string from the 2nd to the 4th character.\n",
    "slice = string1[2:4]\n",
    "print(slice)\n",
    "# 3. Find the length of a string\n",
    "string1 = 'olaitan'\n",
    "lenght = len(string1)\n",
    "print(length)"
   ]
  },
  {
   "cell_type": "code",
   "execution_count": 126,
   "id": "308da347-0ea4-485b-8eb3-c408f2894a2c",
   "metadata": {},
   "outputs": [
    {
     "data": {
      "text/plain": [
       "'olaitan  yekeen my foot3'"
      ]
     },
     "execution_count": 126,
     "metadata": {},
     "output_type": "execute_result"
    }
   ],
   "source": [
    "concat"
   ]
  },
  {
   "cell_type": "markdown",
   "id": "61c2370b",
   "metadata": {},
   "source": [
    "### Type Conversion"
   ]
  },
  {
   "cell_type": "code",
   "execution_count": null,
   "id": "6c9273c7",
   "metadata": {},
   "outputs": [],
   "source": [
    "# Integer to String\n",
    "num = 10\n",
    "num_str = str(num)  # \"10\""
   ]
  },
  {
   "cell_type": "code",
   "execution_count": null,
   "id": "02787c64",
   "metadata": {},
   "outputs": [],
   "source": [
    "# String to Integer\n",
    "str_num = \"10\"\n",
    "num_int = int(str_num)  # 10"
   ]
  },
  {
   "cell_type": "code",
   "execution_count": null,
   "id": "fb8e6580",
   "metadata": {},
   "outputs": [],
   "source": [
    "# Float to Integer\n",
    "float_num = 10.5\n",
    "int_num = int(float_num)  # 10"
   ]
  },
  {
   "cell_type": "code",
   "execution_count": null,
   "id": "fecb2432",
   "metadata": {},
   "outputs": [],
   "source": [
    "# Integer to Float\n",
    "int_to_float = float(num)  # 10.0"
   ]
  },
  {
   "cell_type": "code",
   "execution_count": 134,
   "id": "1645da08",
   "metadata": {},
   "outputs": [
    {
     "name": "stdout",
     "output_type": "stream",
     "text": [
      "12\n",
      "13\n",
      "22\n"
     ]
    }
   ],
   "source": [
    "# Practice Questions:\n",
    "# 1. Convert a float to an integer.\n",
    "float_num = 12.3\n",
    "int_num=int(float_num)\n",
    "print(int_num)\n",
    "# 2. Convert a string to an integer.\n",
    "str_num = '13'\n",
    "num_int =int(str_num)\n",
    "print(str_num)\n",
    "# 3. Convert an integer to a string.\n",
    "num = 22\n",
    "num_str = str(num)\n",
    "print(num_str)"
   ]
  },
  {
   "cell_type": "markdown",
   "id": "db1b2be5",
   "metadata": {},
   "source": [
    "### Boolean values"
   ]
  },
  {
   "cell_type": "code",
   "execution_count": 135,
   "id": "11427467",
   "metadata": {},
   "outputs": [],
   "source": [
    "is_python_fun = True\n",
    "is_sky_green = False"
   ]
  },
  {
   "cell_type": "code",
   "execution_count": 136,
   "id": "53e00ba2",
   "metadata": {},
   "outputs": [],
   "source": [
    "# Boolean expressions\n",
    "bool_expr1 = (10 > 5)  # True\n",
    "bool_expr2 = (10 < 5)  # False"
   ]
  },
  {
   "cell_type": "code",
   "execution_count": 143,
   "id": "3fc80fb4",
   "metadata": {},
   "outputs": [
    {
     "ename": "SyntaxError",
     "evalue": "invalid syntax (1317226013.py, line 3)",
     "output_type": "error",
     "traceback": [
      "\u001b[1;36m  Cell \u001b[1;32mIn[143], line 3\u001b[1;36m\u001b[0m\n\u001b[1;33m    is_earth the rotating = true\u001b[0m\n\u001b[1;37m             ^\u001b[0m\n\u001b[1;31mSyntaxError\u001b[0m\u001b[1;31m:\u001b[0m invalid syntax\n"
     ]
    }
   ],
   "source": [
    "# Practice Questions:\n",
    "# 1. Create two boolean variables, one True and one False.\n",
    "is_earth the rotating = true\n",
    "can_man give birth    = false\n",
    "# 2. Write a program that prints the result of a boolean expression (e.g., 10 > 3).\n",
    "bool_expr 1 =(10 > 3)\n",
    "bool-expr 2 = (10 < 3)\n",
    "print(bool_expr 1)\n",
    "print(bool_expr )"
   ]
  }
 ],
 "metadata": {
  "kernelspec": {
   "display_name": "Python 3 (ipykernel)",
   "language": "python",
   "name": "python3"
  },
  "language_info": {
   "codemirror_mode": {
    "name": "ipython",
    "version": 3
   },
   "file_extension": ".py",
   "mimetype": "text/x-python",
   "name": "python",
   "nbconvert_exporter": "python",
   "pygments_lexer": "ipython3",
   "version": "3.12.7"
  }
 },
 "nbformat": 4,
 "nbformat_minor": 5
}
